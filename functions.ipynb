{
 "cells": [
  {
   "cell_type": "markdown",
   "id": "2ac98460",
   "metadata": {},
   "source": [
    "# Sekcja 1\n",
    "Używamy słowa def dla funkcji."
   ]
  },
  {
   "cell_type": "code",
   "execution_count": 1,
   "id": "d6ba6d97",
   "metadata": {},
   "outputs": [],
   "source": [
    "def sum(a,b):\n",
    "    return a+b\n",
    "    "
   ]
  },
  {
   "cell_type": "markdown",
   "id": "d81647b2",
   "metadata": {},
   "source": [
    "# Sekcja 2\n",
    "Używamy nawiasów okrągłych i podajemy a i b."
   ]
  },
  {
   "cell_type": "code",
   "execution_count": 2,
   "id": "604b9448",
   "metadata": {},
   "outputs": [
    {
     "name": "stdout",
     "output_type": "stream",
     "text": [
      "3\n"
     ]
    }
   ],
   "source": [
    "print(sum(1,2))"
   ]
  }
 ],
 "metadata": {
  "kernelspec": {
   "display_name": "Python 3 (ipykernel)",
   "language": "python",
   "name": "python3"
  },
  "language_info": {
   "codemirror_mode": {
    "name": "ipython",
    "version": 3
   },
   "file_extension": ".py",
   "mimetype": "text/x-python",
   "name": "python",
   "nbconvert_exporter": "python",
   "pygments_lexer": "ipython3",
   "version": "3.11.7"
  }
 },
 "nbformat": 4,
 "nbformat_minor": 5
}
